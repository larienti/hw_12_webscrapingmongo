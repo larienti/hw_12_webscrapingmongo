{
 "cells": [
  {
   "cell_type": "code",
   "execution_count": 12,
   "metadata": {},
   "outputs": [],
   "source": [
    "# Import soup as bs \n",
    "import requests\n",
    "from bs4 import BeautifulSoup as bs\n",
    "from splinter import Browser\n",
    "import pandas as pd\n",
    "import time\n",
    "\n",
    "# create chrome session\n",
    "# brave browser == chrome \n",
    "executable_path = {'executable_path': '/Applications/chromedriver'}\n",
    "browser = Browser('chrome', **executable_path, headless=False)\n",
    "#visit mars.nasa.gov/news\n",
    "browser.visit('https://mars.nasa.gov/news/')\n",
    "time.sleep(5)\n",
    "html=browser.html\n",
    "# run soup on html object from browser, soup is new operatable object\n",
    "soup=bs(html, 'html.parser')\n",
    "\n",
    "# parse html\n",
    "# tags to search: \"div\" for article, title, link, body \n",
    "# article : 'list_text\", title : 'content_title', link : 'a', body : 'article_teaser_body'\n",
    "article=soup.find(\"div\", class_='list_text')\n",
    "title=article.find(\"div\", class_=\"content_title\")\n",
    "##print(article)\n",
    "#^^ raw soup \n",
    "news_title=title.find(\"a\").text\n",
    "news_p=article.find(\"div\", class_ =\"article_teaser_body\").text\n",
    "#^^ parsed soup\n",
    "##print(news_title)\n",
    "##print(news_p)\n",
    "#printers to check"
   ]
  },
  {
   "cell_type": "code",
   "execution_count": 18,
   "metadata": {},
   "outputs": [
    {
     "ename": "SyntaxError",
     "evalue": "invalid syntax (<ipython-input-18-96dd7bde29f7>, line 16)",
     "output_type": "error",
     "traceback": [
      "\u001b[0;36m  File \u001b[0;32m\"<ipython-input-18-96dd7bde29f7>\"\u001b[0;36m, line \u001b[0;32m16\u001b[0m\n\u001b[0;31m    URL imageURL = new URL(logoSRC)\u001b[0m\n\u001b[0m               ^\u001b[0m\n\u001b[0;31mSyntaxError\u001b[0m\u001b[0;31m:\u001b[0m invalid syntax\n"
     ]
    }
   ],
   "source": [
    "# scrape 'https://www.jpl.nasa.gov/spaceimages/?search=&category=Mars'\n",
    "url_image='https://www.jpl.nasa.gov/spaceimages/?search=&category=Mars'\n",
    "browser.visit(url_image)\n",
    "time.sleep(5)\n",
    "html_image=browser.html\n",
    "soup_image=bs(html_image, 'html.parser')\n",
    "\n",
    "# find divs with class='img'\n",
    "containers=soup_image.find_all(\"div\",class_=\"img\")\n",
    "for container in containers:\n",
    "    img=container.find('img')[\"src\"]\n",
    "    img2=img.split('/')[4]\n",
    "    img3=img2.split('-')[0]\n",
    "#splice together image url\n",
    "featured_image_url='https://www.jpl.nasa.gov/spaceimages/images/largesize/' + img3 +'_hires.jpg'\n",
    "# We could download the image using chromedriver if we wanted to, but I think we need a library? No need anyway\n",
    "##print(featured_image_url)"
   ]
  },
  {
   "cell_type": "code",
   "execution_count": null,
   "metadata": {},
   "outputs": [],
   "source": []
  }
 ],
 "metadata": {
  "kernelspec": {
   "display_name": "Python 3",
   "language": "python",
   "name": "python3"
  },
  "language_info": {
   "codemirror_mode": {
    "name": "ipython",
    "version": 3
   },
   "file_extension": ".py",
   "mimetype": "text/x-python",
   "name": "python",
   "nbconvert_exporter": "python",
   "pygments_lexer": "ipython3",
   "version": "3.7.4"
  }
 },
 "nbformat": 4,
 "nbformat_minor": 2
}
