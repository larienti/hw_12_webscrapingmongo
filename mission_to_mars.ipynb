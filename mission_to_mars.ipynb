{
 "cells": [
  {
   "cell_type": "code",
   "execution_count": 28,
   "metadata": {},
   "outputs": [],
   "source": [
    "# Import soup as bs \n",
    "import requests\n",
    "from bs4 import BeautifulSoup as bs\n",
    "from splinter import Browser\n",
    "import pandas as pd\n",
    "import time\n",
    "\n",
    "# create chrome session\n",
    "# brave browser == chrome \n",
    "executable_path = {'executable_path': '/Applications/chromedriver'}\n",
    "browser = Browser('chrome', **executable_path, headless=False)\n",
    "#visit mars.nasa.gov/news\n",
    "browser.visit('https://mars.nasa.gov/news/')\n",
    "time.sleep(5)\n",
    "html=browser.html\n",
    "# run soup on html object from browser, soup is new operatable object\n",
    "soup=bs(html, 'html.parser')\n",
    "\n",
    "# parse html\n",
    "# tags to search: \"div\" for article, title, link, body \n",
    "# article : 'list_text\", title : 'content_title', link : 'a', body : 'article_teaser_body'\n",
    "article=soup.find(\"div\", class_='list_text')\n",
    "title=article.find(\"div\", class_=\"content_title\")\n",
    "##print(article)\n",
    "#^^ raw soup \n",
    "news_title=title.find(\"a\").text\n",
    "news_p=article.find(\"div\", class_ =\"article_teaser_body\").text\n",
    "#^^ parsed soup\n",
    "##print(news_title)\n",
    "##print(news_p)\n",
    "#printers to check"
   ]
  },
  {
   "cell_type": "code",
   "execution_count": 29,
   "metadata": {},
   "outputs": [],
   "source": [
    "# scrape 'https://www.jpl.nasa.gov/spaceimages/?search=&category=Mars'\n",
    "url_image='https://www.jpl.nasa.gov/spaceimages/?search=&category=Mars'\n",
    "browser.visit(url_image)\n",
    "time.sleep(5)\n",
    "html_image=browser.html\n",
    "soup_image=bs(html_image, 'html.parser')\n",
    "\n",
    "# find divs with class='img'\n",
    "containers=soup_image.find_all(\"div\",class_=\"img\")\n",
    "for container in containers:\n",
    "    img=container.find('img')[\"src\"]\n",
    "    img2=img.split('/')[4]\n",
    "    img3=img2.split('-')[0]\n",
    "#splice together image url\n",
    "featured_image_url='https://www.jpl.nasa.gov/spaceimages/images/largesize/' + img3 +'_hires.jpg'\n",
    "# We could download the image using chromedriver if we wanted to, but I think we need a library? No need anyway\n",
    "##print(featured_image_url)"
   ]
  },
  {
   "cell_type": "code",
   "execution_count": 43,
   "metadata": {},
   "outputs": [
    {
     "name": "stdout",
     "output_type": "stream",
     "text": [
      "Log in\n",
      "Sign up\n",
      "See new Tweets\n",
      "Follow\n",
      "Mars Weather\n",
      "Mars Weather\n",
      "@MarsWxReport\n",
      "Updates as avail from the REMS weather instrument aboard \n",
      ".  Data credit: Centro deAstrobiologia, FMI, JPL/NASA, Not an official acct.\n",
      "Gale Crater, Mars\n",
      "Gale Crater, Mars\n",
      "51\n",
      "Following\n",
      "57.2K\n",
      "Followers\n",
      "Tweets\n",
      "Tweets & replies\n",
      "Media\n",
      "Likes\n",
      "New to Twitter?\n",
      "Sign up now to get your own personalized timeline!\n",
      "Sign up\n",
      "You might like\n",
      "NASA InSight\n",
      "NASA InSight\n",
      "@NASAInSight\n",
      "Follow\n",
      "HiRISE: Beautiful Mars (NASA)\n",
      "HiRISE: Beautiful Mars (NASA)\n",
      "@HiRISE\n",
      "Follow\n",
      "Lady Lakdawalla of Baltis Vallis\n",
      "Lady Lakdawalla of Baltis Vallis\n",
      "@elakdawalla\n",
      "Follow\n",
      "Show more\n",
      "What’s happening\n",
      "COVID-19\n",
      "·\n",
      "LIVE\n",
      "COVID-19 updates for the US\n",
      "#SCOOBMovieNight\n",
      "PREMIERING AT HOME TODAY!\n",
      "Promoted by SCOOB!\n",
      "COVID-19\n",
      "·\n",
      "LIVE\n",
      "COVID-19: US retail sales fall more than 16% in April\n",
      "kpop · Trending\n",
      "taetae\n",
      "Trending with: WITH TAETAE\n",
      "US news\n",
      "·\n",
      "2 hours ago\n",
      "A 6.5 magnitude earthquake shakes Nevada\n",
      "Show more\n",
      "Terms\n",
      "Privacy policy\n",
      "Cookies\n",
      "Ads info\n",
      "© 2020 Twitter, Inc.\n"
     ]
    }
   ],
   "source": [
    "# URL of page to be scraped\n",
    "url_tweet='https://twitter.com/marswxreport'\n",
    "browser.visit(url_tweet)\n",
    "time.sleep(5)\n",
    "html_tweet=browser.html\n",
    "soup_tweet=bs(html_tweet, 'html.parser')\n",
    "\n",
    "# Find weather info tweets\n",
    "tweet_container=soup_tweet.find_all('span',class_='css-901oao css-16my406 r-1qd0xha r-ad9z0x r-bcqeeo r-qvutc0')\n",
    "for tweet in tweet_container: \n",
    "    mars_weather=tweet.text\n",
    "    print(mars_weather)\n",
    "    #this seems to fetch all of the text on the page, EXCEPT the tweet content body, despite my class being the most\n",
    "    #specific container for the tweet text. Not sure what is wrong here. Tried a few different classes with no result \n",
    "    #normally if we captured the correct weather text, could use some logic to pick it out of all the results"
   ]
  },
  {
   "cell_type": "code",
   "execution_count": 47,
   "metadata": {},
   "outputs": [
    {
     "data": {
      "text/plain": [
       "'<table border=\"1\" class=\"dataframe\">\\n  <thead>\\n    <tr style=\"text-align: right;\">\\n      <th></th>\\n      <th>Results</th>\\n    </tr>\\n    <tr>\\n      <th>Facts</th>\\n      <th></th>\\n    </tr>\\n  </thead>\\n  <tbody>\\n    <tr>\\n      <th>Equatorial Diameter:</th>\\n      <td>6,792 km</td>\\n    </tr>\\n    <tr>\\n      <th>Polar Diameter:</th>\\n      <td>6,752 km</td>\\n    </tr>\\n    <tr>\\n      <th>Mass:</th>\\n      <td>6.39 × 10^23 kg (0.11 Earths)</td>\\n    </tr>\\n    <tr>\\n      <th>Moons:</th>\\n      <td>2 (Phobos &amp; Deimos)</td>\\n    </tr>\\n    <tr>\\n      <th>Orbit Distance:</th>\\n      <td>227,943,824 km (1.38 AU)</td>\\n    </tr>\\n    <tr>\\n      <th>Orbit Period:</th>\\n      <td>687 days (1.9 years)</td>\\n    </tr>\\n    <tr>\\n      <th>Surface Temperature:</th>\\n      <td>-87 to -5 °C</td>\\n    </tr>\\n    <tr>\\n      <th>First Record:</th>\\n      <td>2nd millennium BC</td>\\n    </tr>\\n    <tr>\\n      <th>Recorded By:</th>\\n      <td>Egyptian astronomers</td>\\n    </tr>\\n  </tbody>\\n</table>'"
      ]
     },
     "execution_count": 47,
     "metadata": {},
     "output_type": "execute_result"
    }
   ],
   "source": [
    "#mars facts \n",
    "url_facts='https://space-facts.com/mars/'\n",
    "tables=pd.read_html(url_facts)\n",
    "profile=pd.DataFrame(tables[0])\n",
    "profile=profile.rename(columns={0:\"Facts\", 1:\"Results\"}).set_index('Facts')\n",
    "#profile #df object\n",
    "html_profile=profile.to_html()\n",
    "html_profile"
   ]
  },
  {
   "cell_type": "code",
   "execution_count": 58,
   "metadata": {},
   "outputs": [
    {
     "data": {
      "text/plain": [
       "[{'Title': 'Cerberus Hemisphere Enhanced',\n",
       "  'img_url': 'http://astropedia.astrogeology.usgs.gov/download/Mars/Viking/cerberus_enhanced.tif/full.jpg'},\n",
       " {'Title': 'Schiaparelli Hemisphere Enhanced',\n",
       "  'img_url': 'http://astropedia.astrogeology.usgs.gov/download/Mars/Viking/schiaparelli_enhanced.tif/full.jpg'},\n",
       " {'Title': 'Syrtis Major Hemisphere Enhanced',\n",
       "  'img_url': 'http://astropedia.astrogeology.usgs.gov/download/Mars/Viking/syrtis_major_enhanced.tif/full.jpg'},\n",
       " {'Title': 'Valles Marineris Hemisphere Enhanced',\n",
       "  'img_url': 'http://astropedia.astrogeology.usgs.gov/download/Mars/Viking/valles_marineris_enhanced.tif/full.jpg'}]"
      ]
     },
     "execution_count": 58,
     "metadata": {},
     "output_type": "execute_result"
    }
   ],
   "source": [
    "url_hem='https://astrogeology.usgs.gov/search/results?q=hemisphere+enhanced&k1=target&v1=Mars'\n",
    "browser.visit(url_hem)\n",
    "time.sleep(1)\n",
    "hem=browser.html\n",
    "soup_hem=bs(hem, 'html.parser')\n",
    "#declare list to store our jawns \n",
    "image_urls=[]\n",
    "results=soup_hem.find_all('div', class_='item')\n",
    "#store results in dict. title, img_url ::  \n",
    "for result in results:\n",
    "    description=result.find('div', class_='description')\n",
    "    title_text=description.find('a')\n",
    "    imgName=title_text['href'].split('/')[5]\n",
    "    #splice together url\n",
    "    img_link='http://astropedia.astrogeology.usgs.gov/download/Mars/Viking/' + imgName + '.tif/full.jpg'\n",
    "    title=title_text.find('h3').text\n",
    "    dict={'Title': title, 'img_url': img_link}\n",
    "    image_urls.append(dict)\n",
    "\n",
    "image_urls"
   ]
  },
  {
   "cell_type": "code",
   "execution_count": null,
   "metadata": {},
   "outputs": [],
   "source": []
  }
 ],
 "metadata": {
  "kernelspec": {
   "display_name": "Python 3",
   "language": "python",
   "name": "python3"
  },
  "language_info": {
   "codemirror_mode": {
    "name": "ipython",
    "version": 3
   },
   "file_extension": ".py",
   "mimetype": "text/x-python",
   "name": "python",
   "nbconvert_exporter": "python",
   "pygments_lexer": "ipython3",
   "version": "3.7.4"
  }
 },
 "nbformat": 4,
 "nbformat_minor": 2
}
